Katie McGaughey

GitHub name: k363m611

date: today

{
 "cells": [
  {
   "cell_type": "markdown",
   "metadata": {},
   "source": [
    "# Lab 2: Data - Inspect, Explore, Split - Titanic Dataset\n",
    "\n",
    "### Author: Katie McGaughey\n",
    "### Date: Today\n",
    "\n",
    "## Introduction\n",
    "### In this lab, I'm working with the Titanic dataset to explore how different passenger details like gender, age, and class relate to survival. Visualizations have been created, features added, and data split."
   ]
  },
  {
   "cell_type": "markdown",
   "metadata": {},
   "source": [
    "## Section 1. Import and Inspect the Data\n",
    "Load the Titanic dataset directly from the seaborn library for consistency and simplicity."
   ]
  },
  {
   "cell_type": "code",
   "execution_count": 193,
   "metadata": {},
   "outputs": [],
   "source": [
    "# Section 1: Import and Inspect the Data\n",
    "\n",
    "import pandas as pd\n",
    "import seaborn as sns\n",
    "from pandas.plotting import scatter_matrix\n",
    "import matplotlib.pyplot as plt\n",
    "from sklearn.model_selection import train_test_split\n",
    "from sklearn.model_selection import StratifiedShuffleSplit\n",
    "\n",
    "# Load the Titanic dataset\n",
    "titanic = sns.load_dataset('titanic')\n",
    "\n",
    "# Display basic information\n",
    "print(\"Basic Info:\")\n",
    "titanic.info()\n",
    "\n",
    "# Display first 10 rows\n",
    "print(\"First 10 rows of the dataset:\")\n",
    "print(titanic.head(10))\n",
    "\n",
    "# Check for missing values\n",
    "print(\"\\nMissing Values:\")\n",
    "print(titanic.isnull().sum())\n",
    "\n",
    "# Display summary statistics\n",
    "print(\"\\nSummary Statistics:\")\n",
    "print(titanic.describe(include='all'))  # include='all' shows both numeric and categorical summaries\n",
    "\n",
    "# Display correlation matrix (numeric columns only)\n",
    "print(\"\\nCorrelation Matrix (numeric features only):\")\n",
    "print(titanic.corr(numeric_only=True))\n"
   ]
  },
  {
   "cell_type": "markdown",
   "metadata": {},
   "source": [
    "### Reflection 1\n",
    "1. How many data instances are there? 891 rows (instances)\n",
    "2. How many features are there? 15 features (columns)\n",
    "3. What are the names? survived, pclass, sex, age, sibsp, parch, fare, embarked, class, who, adult_male, deck, embark_town, alive, alone\n",
    "4. Are there any missing values? Yes - age, embarked, embark_town, deck.\n",
    "5. Are there any non-numeric features? Yes - sex, embarked, class, who, embark_town, alive are categorical.\n",
    "6. Are the data instances sorted on any of the attributes? No.\n",
    "7. What are the units of age? Years.\n",
    "8. What are the minimum, median, and max age? Min age 0.42, Median age around 28, and Max age 80.\n",
    "9. What two different features have the highest correlation? SibSp and Parch.\n",
    "10. Are there any categorical features that might be useful for prediction? Yes, Sex and Pclass are related to survival rates."
   ]
  },
  {
   "cell_type": "markdown",
   "metadata": {},
   "source": [
    "## Section 2. Data Exploration and Preparation\n",
    "2.1 Explore the dataset with charts - and perform feature engineering"
   ]
  },
  {
   "cell_type": "code",
   "execution_count": 195,
   "metadata": {},
   "outputs": [],
   "source": [
    "# Section 2.1: Explore Data Patterns and Distributions - Scatter Matrix\n",
    "\n",
    "# Select only numeric features\n",
    "attributes = ['age', 'fare', 'pclass']\n",
    "\n",
    "# Create the scatter matrix\n",
    "scatter_matrix(titanic[attributes], figsize=(10, 10), diagonal='hist')\n",
    "\n",
    "# Show the plot\n",
    "plt.suptitle(\"Scatter Matrix - Age, Fare, Pclass\", y=1.02)\n",
    "plt.tight_layout()\n",
    "plt.show()\n"
   ]
  },
  {
   "cell_type": "markdown",
   "metadata": {},
   "source": [
    "2.1.1 Create a scatter plot of age vs fare, colored by gender"
   ]
  }
 ]
}

